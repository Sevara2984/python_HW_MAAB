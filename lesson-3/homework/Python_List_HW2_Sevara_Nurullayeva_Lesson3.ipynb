{
 "cells": [
  {
   "cell_type": "code",
   "execution_count": 4,
   "metadata": {},
   "outputs": [
    {
     "name": "stdout",
     "output_type": "stream",
     "text": [
      "['rice', 'beans']\n"
     ]
    }
   ],
   "source": [
    "# 1. Create a list named food with two elements, \"rice\" and \"beans\".\n",
    "\n",
    "food = [\"rice\",\"beans\"]\n",
    "print(food)\n"
   ]
  },
  {
   "cell_type": "code",
   "execution_count": 5,
   "metadata": {},
   "outputs": [
    {
     "name": "stdout",
     "output_type": "stream",
     "text": [
      "['rice', 'beans', 'broccoli']\n"
     ]
    }
   ],
   "source": [
    "# 2. Append the string \"broccoli\" to food using .append().\n",
    "\n",
    "food.append(\"broccoli\")\n",
    "print(food)"
   ]
  },
  {
   "cell_type": "code",
   "execution_count": 8,
   "metadata": {},
   "outputs": [
    {
     "name": "stdout",
     "output_type": "stream",
     "text": [
      "['rice', 'beans', 'broccoli', 'bread', 'pizza']\n"
     ]
    }
   ],
   "source": [
    "# 3. Add the strings \"bread\" and \"pizza\" to food using .extend().\n",
    "\n",
    "food2 = [\"bread\",\"pizza\"]\n",
    "food.extend(food2)\n",
    "print(food)"
   ]
  },
  {
   "cell_type": "code",
   "execution_count": 10,
   "metadata": {},
   "outputs": [
    {
     "name": "stdout",
     "output_type": "stream",
     "text": [
      "['rice', 'beans']\n"
     ]
    }
   ],
   "source": [
    "# 4. Print the first two items in the food list using print() and slice notation.\n",
    "\n",
    "print(food[:2])"
   ]
  },
  {
   "cell_type": "code",
   "execution_count": 11,
   "metadata": {},
   "outputs": [
    {
     "name": "stdout",
     "output_type": "stream",
     "text": [
      "pizza\n"
     ]
    }
   ],
   "source": [
    "# 5. Print the last item in food using print() and index notation.\n",
    "\n",
    "print(food[-1])"
   ]
  },
  {
   "cell_type": "code",
   "execution_count": 14,
   "metadata": {},
   "outputs": [
    {
     "name": "stdout",
     "output_type": "stream",
     "text": [
      "['eggs', ' fruit', ' orange juice']\n"
     ]
    }
   ],
   "source": [
    "# 6. Create a list called breakfast from the string \"eggs, fruit, orange juice\" using the string .split() method. \n",
    "\n",
    "str = \"eggs, fruit, orange juice\"\n",
    "breakfast = str.split(\",\")\n",
    "print(breakfast)"
   ]
  },
  {
   "cell_type": "code",
   "execution_count": 15,
   "metadata": {},
   "outputs": [
    {
     "name": "stdout",
     "output_type": "stream",
     "text": [
      "3\n"
     ]
    }
   ],
   "source": [
    "# 7. Verify that breakfast has three items using len(). \n",
    "\n",
    "print(len(breakfast))"
   ]
  },
  {
   "cell_type": "code",
   "execution_count": 16,
   "metadata": {},
   "outputs": [
    {
     "name": "stdout",
     "output_type": "stream",
     "text": [
      "[4, 6, 13]\n"
     ]
    }
   ],
   "source": [
    "# 8. Create a new list called lengths using a list comprehension that contains the lengths of each string in the breakfast list\n",
    "\n",
    "lengths = [len(x) for x in breakfast]\n",
    "print(lengths)"
   ]
  }
 ],
 "metadata": {
  "kernelspec": {
   "display_name": "Python 3",
   "language": "python",
   "name": "python3"
  },
  "language_info": {
   "codemirror_mode": {
    "name": "ipython",
    "version": 3
   },
   "file_extension": ".py",
   "mimetype": "text/x-python",
   "name": "python",
   "nbconvert_exporter": "python",
   "pygments_lexer": "ipython3",
   "version": "3.12.8"
  }
 },
 "nbformat": 4,
 "nbformat_minor": 2
}
