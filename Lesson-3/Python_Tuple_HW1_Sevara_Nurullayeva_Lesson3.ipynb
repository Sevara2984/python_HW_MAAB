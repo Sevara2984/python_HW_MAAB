{
 "cells": [
  {
   "cell_type": "code",
   "execution_count": 1,
   "metadata": {},
   "outputs": [
    {
     "name": "stdout",
     "output_type": "stream",
     "text": [
      "('first', 'second', 'third')\n"
     ]
    }
   ],
   "source": [
    "# 1. Create a tuple literal named cardinal_numbers that holds the strings\n",
    "\n",
    "cardinal_numbers = ('first', 'second', 'third')\n",
    "print(cardinal_numbers)"
   ]
  },
  {
   "cell_type": "code",
   "execution_count": 2,
   "metadata": {},
   "outputs": [
    {
     "name": "stdout",
     "output_type": "stream",
     "text": [
      "second\n"
     ]
    }
   ],
   "source": [
    "# 2. Using index notation and print(), display the string at index 1 in cardinal_numbers. \n",
    "\n",
    "print(cardinal_numbers[1])"
   ]
  },
  {
   "cell_type": "code",
   "execution_count": 3,
   "metadata": {},
   "outputs": [
    {
     "name": "stdout",
     "output_type": "stream",
     "text": [
      "first\n",
      "second\n",
      "third\n"
     ]
    }
   ],
   "source": [
    "# 3. In a single line of code, unpack the values in cardinal_numbers into three new strings named position1, position2, and position3. Then print each value on a separate line. \n",
    "\n",
    "(position1,position2,position3) = cardinal_numbers\n",
    "print(position1)\n",
    "print(position2)\n",
    "print(position3)"
   ]
  },
  {
   "cell_type": "code",
   "execution_count": 4,
   "metadata": {},
   "outputs": [
    {
     "name": "stdout",
     "output_type": "stream",
     "text": [
      "('S', 'e', 'v', 'a', 'r', 'a')\n"
     ]
    }
   ],
   "source": [
    "# 4. Using tuple() and a string literal, create a tuple called my_name that contains the letters of your name. \n",
    "\n",
    "my_name = ('S','e','v','a','r','a')\n",
    "print(my_name)"
   ]
  },
  {
   "cell_type": "code",
   "execution_count": 7,
   "metadata": {},
   "outputs": [
    {
     "name": "stdout",
     "output_type": "stream",
     "text": [
      "No, 'x' is not in your name\n"
     ]
    }
   ],
   "source": [
    "# 5. Check whether the character \"x\" is in my_name using the in keyword. \n",
    "\n",
    "if 'x' not in my_name:\n",
    "    print(\"No, 'x' is not in your name\")"
   ]
  },
  {
   "cell_type": "code",
   "execution_count": 11,
   "metadata": {},
   "outputs": [
    {
     "name": "stdout",
     "output_type": "stream",
     "text": [
      "('S', 'e', 'v', 'a', 'r', 'a')\n"
     ]
    }
   ],
   "source": [
    "# 6. Create a new tuple containing all but the first letter in my_name using slice notation.\n",
    "\n",
    "my_name2 = (my_name[0],)+my_name[1:]\n",
    "print (my_name2)"
   ]
  }
 ],
 "metadata": {
  "kernelspec": {
   "display_name": "Python 3",
   "language": "python",
   "name": "python3"
  },
  "language_info": {
   "codemirror_mode": {
    "name": "ipython",
    "version": 3
   },
   "file_extension": ".py",
   "mimetype": "text/x-python",
   "name": "python",
   "nbconvert_exporter": "python",
   "pygments_lexer": "ipython3",
   "version": "3.12.8"
  }
 },
 "nbformat": 4,
 "nbformat_minor": 2
}
