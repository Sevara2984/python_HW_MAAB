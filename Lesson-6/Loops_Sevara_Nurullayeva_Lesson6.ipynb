{
 "cells": [
  {
   "cell_type": "code",
   "execution_count": 1,
   "metadata": {},
   "outputs": [
    {
     "name": "stdout",
     "output_type": "stream",
     "text": [
      "[2, 2, 5]\n"
     ]
    }
   ],
   "source": [
    "#HW1\n",
    "\n",
    "# 1. Return uncommon elements of lists (order of elements does not matter)\n",
    "\n",
    "list1 = [1,1,2,3,4,2]\n",
    "list2 = [1, 3, 4, 5]\n",
    "list3=[]\n",
    "\n",
    "for x in list1:\n",
    "    if x not in list2:\n",
    "        list3.append(x)\n",
    "for y in list2:\n",
    "    if y not in list1:\n",
    "        list3.append(y)\n",
    "print (list3)"
   ]
  },
  {
   "cell_type": "code",
   "execution_count": 2,
   "metadata": {},
   "outputs": [
    {
     "name": "stdout",
     "output_type": "stream",
     "text": [
      "1\n",
      "2\n",
      "3\n",
      "4\n",
      "5\n",
      "6\n",
      "7\n",
      "8\n",
      "9\n",
      "10\n"
     ]
    }
   ],
   "source": [
    "#HW2\n",
    "\n",
    "# 1. Print first 10 natural numbers using while loop\n",
    "\n",
    "n=1\n",
    "\n",
    "while n<=10:\n",
    "    print(n)\n",
    "    n+=1"
   ]
  },
  {
   "cell_type": "code",
   "execution_count": 28,
   "metadata": {},
   "outputs": [
    {
     "name": "stdout",
     "output_type": "stream",
     "text": [
      "[1]\n",
      "[1, 2]\n",
      "[1, 2, 3]\n",
      "[1, 2, 3, 4]\n",
      "[1, 2, 3, 4, 5]\n"
     ]
    }
   ],
   "source": [
    "# 2. Print the following pattern\n",
    "#\t\t- 1 \n",
    "#\t\t- 1 2 \n",
    "#\t\t- 1 2 3 \n",
    "#\t\t- 1 2 3 4 \n",
    "#\t\t- 1 2 3 4 5\n",
    "\n",
    "list=[]\n",
    "\n",
    "for x in range(1, 6):\n",
    "    list.append(x)\n",
    "    print(list)\n"
   ]
  },
  {
   "cell_type": "code",
   "execution_count": 39,
   "metadata": {},
   "outputs": [
    {
     "name": "stdout",
     "output_type": "stream",
     "text": [
      "6\n"
     ]
    }
   ],
   "source": [
    "# 3. Write a Python program to accept a number from a user and calculate the sum of all numbers from 1 to a given number\n",
    "\n",
    "\n",
    "end=int(input(\"Please enter the number: \"))\n",
    "sum=0\n",
    "\n",
    "for i in range (1, end+1):\n",
    "    sum+=i\n",
    "print (sum)\n",
    "    "
   ]
  },
  {
   "cell_type": "code",
   "execution_count": 9,
   "metadata": {},
   "outputs": [
    {
     "name": "stdout",
     "output_type": "stream",
     "text": [
      "75\n",
      "145\n"
     ]
    }
   ],
   "source": [
    "# 4. Write a Python program to display only those numbers from a list that satisfy the following conditions\n",
    "\n",
    "#\t\tThe number must be divisible by five\n",
    "#\t\tIf the number is greater than 150, then skip it and move to the following number\n",
    "#\t\tIf the number is greater than 500, then stop the loop\n",
    "#         \t\tnumbers = [12, 75, 150, 180, 145, 525, 50]\n",
    "\n",
    "numbers = [12, 75, 150, 180, 145, 525, 50]\n",
    "\n",
    "for i in numbers:\n",
    "    if i<150 and i%5 ==0:\n",
    "        print(i)\n",
    "    if i>150 and i<500:\n",
    "        continue\n",
    "    if i>500:\n",
    "        break\n",
    "\n",
    "\n"
   ]
  },
  {
   "cell_type": "code",
   "execution_count": 14,
   "metadata": {},
   "outputs": [
    {
     "name": "stdout",
     "output_type": "stream",
     "text": [
      "5\n"
     ]
    }
   ],
   "source": [
    "# 5. Write a Python program to count the total number of digits in a number using a while loop. For example, the number is 75869, so the output should be 5.\n",
    "\n",
    "number=75869\n",
    "count = 0\n",
    "\n",
    "while number !=0:\n",
    "    number=number//10\n",
    "    count+=1\n",
    "print (count)\n",
    "\n",
    "\n",
    "\n"
   ]
  },
  {
   "cell_type": "code",
   "execution_count": 24,
   "metadata": {},
   "outputs": [
    {
     "name": "stdout",
     "output_type": "stream",
     "text": [
      "6789\n"
     ]
    }
   ],
   "source": [
    "# 6. Write a Python program to print the reverse number pattern using a for loop.\n",
    "\n",
    "number=9876\n",
    "reverse = 0\n",
    "\n",
    "for x in str(number):\n",
    "    d = number%10\n",
    "    reverse = reverse*10+d\n",
    "    number//=10\n",
    "\n",
    "print (reverse)"
   ]
  },
  {
   "cell_type": "code",
   "execution_count": 17,
   "metadata": {},
   "outputs": [
    {
     "name": "stdout",
     "output_type": "stream",
     "text": [
      "50\n",
      "40\n",
      "30\n",
      "20\n",
      "10\n"
     ]
    }
   ],
   "source": [
    "# 7. Print list in reverse order using a loop\n",
    "\n",
    "list1 = [10, 20, 30, 40, 50]\n",
    "\n",
    "for x in list1[::-1]:\n",
    "    print (x)"
   ]
  },
  {
   "cell_type": "code",
   "execution_count": 31,
   "metadata": {},
   "outputs": [
    {
     "name": "stdout",
     "output_type": "stream",
     "text": [
      "40320\n"
     ]
    }
   ],
   "source": [
    "# 8. Find the factorial of a given number. Write a Python program to use for loop to find the factorial of a given number.\n",
    "\n",
    "number = 8\n",
    "factorial = 1\n",
    "\n",
    "for i in range(1, number+1):\n",
    "    factorial*=i\n",
    "print (factorial)"
   ]
  },
  {
   "cell_type": "code",
   "execution_count": 29,
   "metadata": {},
   "outputs": [
    {
     "name": "stdout",
     "output_type": "stream",
     "text": [
      "[0, 1, 1, 2, 3, 5, 8, 13, 21, 34]\n",
      "1\n",
      "2\n",
      "3\n",
      "5\n",
      "8\n",
      "13\n",
      "21\n",
      "34\n"
     ]
    }
   ],
   "source": [
    "# 9. Display Fibonacci series up to 10 terms\n",
    "\n",
    "list = [0,1]\n",
    "\n",
    "for i in range(2,10):\n",
    "    list.append(list[i-1]+list[i-2])\n",
    "print(list)\n",
    "\n",
    "\n"
   ]
  },
  {
   "cell_type": "code",
   "execution_count": 40,
   "metadata": {},
   "outputs": [
    {
     "name": "stdout",
     "output_type": "stream",
     "text": [
      "[1, 2, 3, 5, 7, 11, 13, 17, 19, 23, 29, 31, 37, 41, 43, 47, 53, 59, 61, 67, 71, 73, 79, 83, 89, 97]\n"
     ]
    }
   ],
   "source": [
    "# 10. Print all prime numbers within a range\n",
    "\n",
    "prime_num=[]\n",
    "numbers = range(1,100)\n",
    "\n",
    "for i in numbers:\n",
    "    for j in range (2,i):\n",
    "\n",
    "        if (i%j)==0:\n",
    "            break\n",
    "    else:\n",
    "        prime_num.append(i)\n",
    "\n",
    "print (prime_num)\n"
   ]
  },
  {
   "cell_type": "code",
   "execution_count": 46,
   "metadata": {},
   "outputs": [
    {
     "name": "stdout",
     "output_type": "stream",
     "text": [
      "This number is not a perfect number\n"
     ]
    }
   ],
   "source": [
    "# 11. write a program to identify given number is perfect or not\n",
    "\n",
    "perfect_num = []\n",
    "n = int(input(\"Please enter a number: \"))\n",
    "\n",
    "if n>0:\n",
    "    for i in range(1,n):\n",
    "        if n%i==0:\n",
    "            perfect_num.append(i)\n",
    "            if sum(perfect_num)==n:\n",
    "                print(\"This number is a perfect number\")\n",
    "                break\n",
    "    else:\n",
    "            print (\"This number is not a perfect number\")\n",
    "\n"
   ]
  },
  {
   "cell_type": "code",
   "execution_count": 48,
   "metadata": {},
   "outputs": [
    {
     "name": "stdout",
     "output_type": "stream",
     "text": [
      "There are 5 letters, 3 digits and 3 special symbols in the given string.\n"
     ]
    }
   ],
   "source": [
    "# 12. Count all letters, digits, and special symbols from a given string\n",
    "\n",
    "string = \"H&el123lo%^\"\n",
    "\n",
    "count_l = 0\n",
    "count_d = 0\n",
    "count_s = 0\n",
    "\n",
    "for i in string:\n",
    "    if i.isalpha():\n",
    "        count_l+=1\n",
    "    elif i.isdigit():\n",
    "        count_d+=1\n",
    "    else:\n",
    "        count_s+=1\n",
    "\n",
    "print (f\"There are {count_l} letters, {count_d} digits and {count_s} special symbols in the given string.\")"
   ]
  }
 ],
 "metadata": {
  "kernelspec": {
   "display_name": "Python 3",
   "language": "python",
   "name": "python3"
  },
  "language_info": {
   "codemirror_mode": {
    "name": "ipython",
    "version": 3
   },
   "file_extension": ".py",
   "mimetype": "text/x-python",
   "name": "python",
   "nbconvert_exporter": "python",
   "pygments_lexer": "ipython3",
   "version": "3.12.8"
  }
 },
 "nbformat": 4,
 "nbformat_minor": 2
}
