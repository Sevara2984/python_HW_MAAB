{
 "cells": [
  {
   "cell_type": "code",
   "execution_count": 2,
   "metadata": {},
   "outputs": [
    {
     "name": "stdout",
     "output_type": "stream",
     "text": [
      "38\n"
     ]
    }
   ],
   "source": [
    "# 1. Write a Python program to calculate the length of a string\n",
    "\n",
    "str = \"Hello, my fullname is Sevara Nurulaeva\"\n",
    "length = len(str)\n",
    "print(length)"
   ]
  },
  {
   "cell_type": "code",
   "execution_count": 4,
   "metadata": {},
   "outputs": [
    {
     "name": "stdout",
     "output_type": "stream",
     "text": [
      "Hed!\n"
     ]
    }
   ],
   "source": [
    "# 2. Write a Python program to get a string made of the first 2 and last 2 characters of a given string.\n",
    "\n",
    "a = 'Hello world!'\n",
    "b = a[:2]+a[-2:]\n",
    "print (b)"
   ]
  },
  {
   "cell_type": "code",
   "execution_count": 17,
   "metadata": {},
   "outputs": [
    {
     "name": "stdout",
     "output_type": "stream",
     "text": [
      "resta$t\n"
     ]
    }
   ],
   "source": [
    "# 3. Write a Python program to get a string from a given string where all occurrences of its first char have been changed to '$', except the first char itself.\n",
    "\n",
    "a = 'restart'\n",
    "b = a[0]+a[1:].replace('r','$')\n",
    "print (b)"
   ]
  },
  {
   "cell_type": "code",
   "execution_count": 1,
   "metadata": {},
   "outputs": [
    {
     "name": "stdout",
     "output_type": "stream",
     "text": [
      "xyc abz\n"
     ]
    }
   ],
   "source": [
    "# 4. Write a Python program to get a single string from two given strings, separated by a space and swap the first two characters of each string.\n",
    "\n",
    "str1 = 'abc'\n",
    "str2 = 'xyz'\n",
    "\n",
    "result = str2[:2]+str1[2:]+' '+str1[:2]+str2[2:]\n",
    "print(result)\n"
   ]
  },
  {
   "cell_type": "code",
   "execution_count": 2,
   "metadata": {},
   "outputs": [
    {
     "name": "stdout",
     "output_type": "stream",
     "text": [
      "This is the irst example!\n"
     ]
    }
   ],
   "source": [
    "# 5. Write a  Python program to remove the n index ( n should be given by input) character from a nonempty string.\n",
    "\n",
    "str = 'This is the first example!'\n",
    "result = str.replace('f','')\n",
    "print(result)"
   ]
  },
  {
   "cell_type": "code",
   "execution_count": 6,
   "metadata": {},
   "outputs": [
    {
     "name": "stdout",
     "output_type": "stream",
     "text": [
      "!elcome studentsW\n"
     ]
    }
   ],
   "source": [
    "# 6. Write a Python program to change a given string to a newly string where the first and last chars have been exchanged.\n",
    "\n",
    "a = \"Welcome students!\"\n",
    "char1 = a[0]\n",
    "char2 = a[-1]\n",
    "b = char2 + a[1:-1] + char1\n",
    "print (b)\n"
   ]
  },
  {
   "cell_type": "code",
   "execution_count": 5,
   "metadata": {},
   "outputs": [
    {
     "name": "stdout",
     "output_type": "stream",
     "text": [
      "3\n"
     ]
    }
   ],
   "source": [
    "# 7. Write a Python program to count the occurrences of a given word in a given sentence.( word and sentence should be given as a input)\n",
    "\n",
    "a = input(\"Enter your sentence: /n\")\n",
    "b = input(\"Enter the word that you want to know the count of occurences in your sentence: \")\n",
    "print (a.count(b))"
   ]
  },
  {
   "cell_type": "code",
   "execution_count": 4,
   "metadata": {},
   "outputs": [
    {
     "name": "stdout",
     "output_type": "stream",
     "text": [
      "SEVARA\n",
      "sevara\n"
     ]
    }
   ],
   "source": [
    "# 8. Write a Python  script that takes input from the user and displays that input back in upper and lower cases.\n",
    "\n",
    "script = input(\"Enter your name: \")\n",
    "print (script.upper())\n",
    "print (script.lower())"
   ]
  },
  {
   "cell_type": "code",
   "execution_count": 42,
   "metadata": {},
   "outputs": [
    {
     "name": "stdout",
     "output_type": "stream",
     "text": [
      "onononon\n",
      "eseseses\n"
     ]
    }
   ],
   "source": [
    "# 9. Write a Python code to get a string made of 4 copies of the last two characters of a given string (string should be given as input).\n",
    "\n",
    "a = 'Python'\n",
    "b = 'Exercises'\n",
    "print(a[-2:]*4)\n",
    "print(b[-2:]*4)"
   ]
  },
  {
   "cell_type": "code",
   "execution_count": 43,
   "metadata": {},
   "outputs": [
    {
     "name": "stdout",
     "output_type": "stream",
     "text": [
      "ipy\n",
      "pyt\n"
     ]
    }
   ],
   "source": [
    "# 10. Write a Python code to get a string made of the first three characters of a specified string.\n",
    "\n",
    "a = 'ipy'\n",
    "b = 'python'\n",
    "print (a[:3])\n",
    "print (b[:3])"
   ]
  },
  {
   "cell_type": "code",
   "execution_count": 45,
   "metadata": {},
   "outputs": [
    {
     "name": "stdout",
     "output_type": "stream",
     "text": [
      "olleH\n"
     ]
    }
   ],
   "source": [
    "# 11. Write a Python code to reverse a string\n",
    "\n",
    "a = 'Hello'\n",
    "print (a[::-1])"
   ]
  },
  {
   "cell_type": "code",
   "execution_count": 52,
   "metadata": {},
   "outputs": [
    {
     "name": "stdout",
     "output_type": "stream",
     "text": [
      "True\n"
     ]
    }
   ],
   "source": [
    "#12. Write a Python program to check whether a string starts with specified characters.\n",
    "\n",
    "a = \"Welcome students!\"\n",
    "\n",
    "print (a.startswith('Wel'))"
   ]
  }
 ],
 "metadata": {
  "kernelspec": {
   "display_name": "Python 3",
   "language": "python",
   "name": "python3"
  },
  "language_info": {
   "codemirror_mode": {
    "name": "ipython",
    "version": 3
   },
   "file_extension": ".py",
   "mimetype": "text/x-python",
   "name": "python",
   "nbconvert_exporter": "python",
   "pygments_lexer": "ipython3",
   "version": "3.12.8"
  }
 },
 "nbformat": 4,
 "nbformat_minor": 2
}
