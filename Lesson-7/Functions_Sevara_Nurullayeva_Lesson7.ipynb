{
 "cells": [
  {
   "cell_type": "code",
   "execution_count": 15,
   "metadata": {},
   "outputs": [
    {
     "name": "stdout",
     "output_type": "stream",
     "text": [
      "67\n"
     ]
    }
   ],
   "source": [
    "# 1. Write a Python function to find the maximum of three numbers in three ways.\n",
    "\n",
    "def max_value(a):\n",
    "    print (max(a))\n",
    "\n",
    "numbers=(45,67,8)\n",
    "max_value(numbers)"
   ]
  },
  {
   "cell_type": "code",
   "execution_count": 9,
   "metadata": {},
   "outputs": [
    {
     "name": "stdout",
     "output_type": "stream",
     "text": [
      "10\n"
     ]
    }
   ],
   "source": [
    "def max_value(list):\n",
    "    list.sort()\n",
    "    print(list[-1])\n",
    "\n",
    "numbers=[10,9,0]\n",
    "max_value(numbers)"
   ]
  },
  {
   "cell_type": "code",
   "execution_count": 23,
   "metadata": {},
   "outputs": [
    {
     "name": "stdout",
     "output_type": "stream",
     "text": [
      "323\n"
     ]
    }
   ],
   "source": [
    "def max_value(a,b,c):\n",
    "    if a>=b and a>=c:\n",
    "        print (a)\n",
    "    elif b>=a and b>=c:\n",
    "        print (b)\n",
    "    else:\n",
    "        print (c)\n",
    "\n",
    "max_value(34,323,3)"
   ]
  },
  {
   "cell_type": "code",
   "execution_count": 27,
   "metadata": {},
   "outputs": [
    {
     "name": "stdout",
     "output_type": "stream",
     "text": [
      "57\n"
     ]
    }
   ],
   "source": [
    "# 2. Write a Python function to sum all the numbers in a list.\n",
    "\n",
    "def sum_numbers(list):\n",
    "    print (sum(list))\n",
    "\n",
    "a=[7,8,9,10,11,2,0,10]\n",
    "sum_numbers(a)"
   ]
  },
  {
   "cell_type": "code",
   "execution_count": 3,
   "metadata": {},
   "outputs": [
    {
     "name": "stdout",
     "output_type": "stream",
     "text": [
      "67\n"
     ]
    }
   ],
   "source": [
    "def sum_numbers(x):\n",
    "    a=0\n",
    "    for x in n:\n",
    "        a+=x\n",
    "    print (a)\n",
    "\n",
    "n=[7,8,9,10,11,2,0,10,20,-10]\n",
    "sum_numbers(n)"
   ]
  },
  {
   "cell_type": "code",
   "execution_count": 7,
   "metadata": {},
   "outputs": [
    {
     "name": "stdout",
     "output_type": "stream",
     "text": [
      "-560\n"
     ]
    }
   ],
   "source": [
    "# 3. Write a Python function to multiply all the numbers in a list.\n",
    "\n",
    "def multiply_numbers(x):\n",
    "    a=1\n",
    "    for x in n:\n",
    "        a*=x\n",
    "    print (a)\n",
    "\n",
    "n=[7,8,10,1,-1]\n",
    "multiply_numbers(n)"
   ]
  },
  {
   "cell_type": "code",
   "execution_count": 24,
   "metadata": {},
   "outputs": [
    {
     "name": "stdout",
     "output_type": "stream",
     "text": [
      "(1, 2, 3)\n",
      "(1, 2)\n",
      "(1, 2, 3, 4, 5, 6, 7)\n"
     ]
    }
   ],
   "source": [
    "# 4. Create a function in such a way that we can pass any number of arguments to this function, and the function should process them and display each argument’s value.\n",
    "\n",
    "def test(*f):\n",
    "    print (f)\n",
    "\n",
    "f1=test(1,2,3)\n",
    "f2=test(1,2)\n",
    "f3=test(1,2,3,4,5,6,7)\n"
   ]
  },
  {
   "cell_type": "code",
   "execution_count": 1,
   "metadata": {},
   "outputs": [
    {
     "name": "stdout",
     "output_type": "stream",
     "text": [
      "120\n"
     ]
    }
   ],
   "source": [
    "# 5. Write a Python function to calculate the factorial of a number (a non-negative integer). The function accepts the number as an argument.\n",
    "\n",
    "\n",
    "def factorial(f):\n",
    "        list_1 =[]\n",
    "        while f>=1:\n",
    "                list_1.append(f)\n",
    "                f-=1\n",
    "       \n",
    "        a=1\n",
    "        for x in list_1:\n",
    "                a=a*x\n",
    "        print(a)        \n",
    "          \n",
    "factorial(5)"
   ]
  },
  {
   "cell_type": "code",
   "execution_count": 28,
   "metadata": {},
   "outputs": [
    {
     "name": "stdout",
     "output_type": "stream",
     "text": [
      "Yes, this number falls within a given range\n",
      "No, this number doesn't fall within a given range\n",
      "Yes, this number falls within a given range\n"
     ]
    }
   ],
   "source": [
    "# 6. Write a Python function to check whether a number falls within a given range\n",
    "\n",
    "def func_6(x):\n",
    "    if x in range(10,20):\n",
    "        print (\"Yes, this number falls within a given range\")\n",
    "    else:\n",
    "        print (\"No, this number doesn't fall within a given range\")\n",
    "\n",
    "func_6(10)\n",
    "func_6(20)\n",
    "func_6(15)"
   ]
  },
  {
   "cell_type": "code",
   "execution_count": 50,
   "metadata": {},
   "outputs": [
    {
     "name": "stdout",
     "output_type": "stream",
     "text": [
      "The number of uppercase letters - 3, the number of lowercase letters - 3\n"
     ]
    }
   ],
   "source": [
    "# 7. Write a Python function that accepts a string and counts the number of upper and lower case letters.\n",
    "\n",
    "def count_letters(text):\n",
    "    upper_c =0\n",
    "    lower_c =0\n",
    "    for x in text:\n",
    "       \n",
    "        if x.isupper():\n",
    "            upper_c+=1\n",
    "            \n",
    "        else:\n",
    "            lower_c+=1\n",
    "       \n",
    "\n",
    "    print (f\"The number of uppercase letters - {upper_c}, the number of lowercase letters - {lower_c}\")\n",
    "\n",
    "count_letters(\"SEvaRa\")"
   ]
  },
  {
   "cell_type": "code",
   "execution_count": 51,
   "metadata": {},
   "outputs": [
    {
     "name": "stdout",
     "output_type": "stream",
     "text": [
      "['tomato', 'meat']\n"
     ]
    }
   ],
   "source": [
    "# 8. Write a Python function that takes a list and returns a new list with distinct elements from the first list.\n",
    "\n",
    "def return_distinct (food):\n",
    "    food_list =['bread','butter','apple','flour','rice','potato']\n",
    "    new_list=[]\n",
    "    for x in food:\n",
    "        if x not in food_list:\n",
    "            new_list.append(x)\n",
    "        else:\n",
    "            pass\n",
    "    print (new_list)\n",
    "\n",
    "\n",
    "my_list = ['tomato','potato','bread','meat']\n",
    "return_distinct (my_list)\n"
   ]
  },
  {
   "cell_type": "code",
   "execution_count": 58,
   "metadata": {},
   "outputs": [
    {
     "name": "stdout",
     "output_type": "stream",
     "text": [
      "This number is not a prime number\n",
      "This number is not a prime number\n",
      "This number is a prime number\n",
      "This number is a prime number\n",
      "This number is a prime number\n",
      "This number is a prime number\n",
      "This number is not a prime number\n",
      "This number is a prime number\n",
      "This number is not a prime number\n",
      "This number is a prime number\n",
      "This number is a prime number\n",
      "This number is a prime number\n",
      "This number is not a prime number\n",
      "This number is a prime number\n",
      "This number is a prime number\n",
      "This number is a prime number\n",
      "This number is a prime number\n",
      "This number is a prime number\n",
      "This number is a prime number\n",
      "This number is a prime number\n",
      "This number is a prime number\n",
      "This number is a prime number\n",
      "This number is a prime number\n",
      "This number is a prime number\n",
      "This number is a prime number\n",
      "This number is a prime number\n",
      "This number is a prime number\n",
      "This number is a prime number\n",
      "This number is a prime number\n",
      "This number is a prime number\n",
      "This number is a prime number\n"
     ]
    }
   ],
   "source": [
    "# 9. Write a Python function that takes a number as a parameter and checks whether the number is prime or not.\n",
    "\n",
    "def prime_num(x):\n",
    "\n",
    "    if x==1 or x==2:\n",
    "        print(\"This number is a prime number\")\n",
    "        \n",
    "    else:\n",
    "    \n",
    "        for i in range(2,x):\n",
    "            if x%i==0:\n",
    "                print(\"This number is not a prime number\")\n",
    "            else:\n",
    "                print (\"This number is a prime number\")\n",
    "\n",
    "prime_num(6)\n",
    "prime_num(1)\n",
    "prime_num(2)\n",
    "prime_num(16)\n",
    "prime_num(13)"
   ]
  },
  {
   "cell_type": "code",
   "execution_count": 3,
   "metadata": {},
   "outputs": [
    {
     "name": "stdout",
     "output_type": "stream",
     "text": [
      "This number is not a prime number\n"
     ]
    }
   ],
   "source": [
    "# 9. Write a Python function that takes a number as a parameter and checks whether the number is prime or not.\n",
    "\n",
    "def prime_num(x):\n",
    "\n",
    "    if x==1 or x==2:\n",
    "        print(\"This number is a prime number\")\n",
    "        \n",
    "    elif x>0:\n",
    "    \n",
    "        for i in range(2,x):\n",
    "            if (x%i)==0:\n",
    "                print(\"This number is not a prime number\")\n",
    "                break\n",
    "        else:\n",
    "            print (\"This number is a prime number\")\n",
    "\n",
    "prime_num(15)\n"
   ]
  },
  {
   "cell_type": "code",
   "execution_count": 80,
   "metadata": {},
   "outputs": [
    {
     "name": "stdout",
     "output_type": "stream",
     "text": [
      "[4, 8, 10, 14]\n"
     ]
    }
   ],
   "source": [
    "# 10. Write a Python program to print the even numbers from a given list\n",
    "\n",
    "def even_num (num):\n",
    "    even_num_list=[]\n",
    "    for x in num:\n",
    "        if x%2==0:\n",
    "            even_num_list.append(x)\n",
    "        else:\n",
    "            pass\n",
    "\n",
    "    print (even_num_list)\n",
    "\n",
    "numbers=[4,7,5,8,10,14,15]\n",
    "even_num(numbers)\n"
   ]
  },
  {
   "cell_type": "code",
   "execution_count": 96,
   "metadata": {},
   "outputs": [
    {
     "name": "stdout",
     "output_type": "stream",
     "text": [
      "This number is a perfect number\n"
     ]
    }
   ],
   "source": [
    "# 11. Write a Python function to check whether a number is \"Perfect\" or not.\n",
    "\n",
    "def perfect_num (x):\n",
    "    list=[]\n",
    "    if x>0:\n",
    "        for i in range(1,x):\n",
    "            if x%i==0:\n",
    "                list.append(i)\n",
    "                if sum(list)==x:\n",
    "                    print(\"This number is a perfect number\")\n",
    "                    break\n",
    "        else:\n",
    "            print (\"This number is not a perfect number\")\n",
    "\n",
    "perfect_num(8128)"
   ]
  },
  {
   "cell_type": "code",
   "execution_count": 119,
   "metadata": {},
   "outputs": [
    {
     "name": "stdout",
     "output_type": "stream",
     "text": [
      "This word is a palindrome\n"
     ]
    }
   ],
   "source": [
    "# 12. Write a  Python function that checks whether a passed string is a palindrome or not.\n",
    "\n",
    "def palindrome_string (word):\n",
    "    if word.lower()==word[::-1].lower():\n",
    "        print (\"This word is a palindrome\")\n",
    "    else:\n",
    "        print (\"This word is not a palindrome\")\n",
    "\n",
    "\n",
    "palindrome_string(\"level\")"
   ]
  },
  {
   "cell_type": "code",
   "execution_count": 128,
   "metadata": {},
   "outputs": [
    {
     "name": "stdout",
     "output_type": "stream",
     "text": [
      "[4, 25, 36, 49, 81, 121]\n"
     ]
    }
   ],
   "source": [
    "# 13. Write a Python function to create and print a list where the values are the squares of numbers between 1 and 30 (both included).\n",
    "\n",
    "def sqr_num(num):\n",
    "    list=[]\n",
    "    \n",
    "    for x in num:\n",
    "        if x>=1 and x<=30:\n",
    "            mult = x*x\n",
    "            list.append(mult)\n",
    "    print (list)\n",
    "\n",
    "\n",
    "num_list=[2,5,6,7,9,11,-1]\n",
    "sqr_num (num_list)"
   ]
  },
  {
   "cell_type": "code",
   "execution_count": 145,
   "metadata": {},
   "outputs": [
    {
     "name": "stdout",
     "output_type": "stream",
     "text": [
      "green-kil-tom-abs\n",
      "['abs', 'green', 'kil', 'tom']\n"
     ]
    }
   ],
   "source": [
    "# 14. Write a Python program that accepts a hyphen-separated sequence of words as input and prints the words in a hyphen-separated sequence after sorting them alphabetically.\n",
    "\n",
    "x= input(\"Enter a hyphen-separated sequence of words:\")\n",
    "print (x)\n",
    "\n",
    "text = x.split(\"-\")\n",
    "text.sort()\n",
    "print(text)\n"
   ]
  },
  {
   "cell_type": "code",
   "execution_count": 165,
   "metadata": {},
   "outputs": [
    {
     "data": {
      "text/plain": [
       "55"
      ]
     },
     "execution_count": 165,
     "metadata": {},
     "output_type": "execute_result"
    }
   ],
   "source": [
    "# 15. Write a program to create a recursive function to calculate the sum of numbers from 0 to 10.\n",
    "\n",
    "def recursive_sum (n):\n",
    "\n",
    "    if n<=0:\n",
    "        return n\n",
    "    return n+recursive_sum(n-1)\n",
    "\n",
    "recursive_sum(10)"
   ]
  }
 ],
 "metadata": {
  "kernelspec": {
   "display_name": "Python 3",
   "language": "python",
   "name": "python3"
  },
  "language_info": {
   "codemirror_mode": {
    "name": "ipython",
    "version": 3
   },
   "file_extension": ".py",
   "mimetype": "text/x-python",
   "name": "python",
   "nbconvert_exporter": "python",
   "pygments_lexer": "ipython3",
   "version": "3.12.8"
  }
 },
 "nbformat": 4,
 "nbformat_minor": 2
}
